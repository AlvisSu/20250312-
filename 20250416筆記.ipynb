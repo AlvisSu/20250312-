{
  "nbformat": 4,
  "nbformat_minor": 0,
  "metadata": {
    "colab": {
      "provenance": [],
      "authorship_tag": "ABX9TyNvWy4j1iO/IPu/7N+Q8ZF3",
      "include_colab_link": true
    },
    "kernelspec": {
      "name": "python3",
      "display_name": "Python 3"
    },
    "language_info": {
      "name": "python"
    }
  },
  "cells": [
    {
      "cell_type": "markdown",
      "metadata": {
        "id": "view-in-github",
        "colab_type": "text"
      },
      "source": [
        "<a href=\"https://colab.research.google.com/github/AlvisSu/20250312-/blob/main/20250416%E7%AD%86%E8%A8%98.ipynb\" target=\"_parent\"><img src=\"https://colab.research.google.com/assets/colab-badge.svg\" alt=\"Open In Colab\"/></a>"
      ]
    },
    {
      "cell_type": "markdown",
      "source": [
        "# 20250416筆記"
      ],
      "metadata": {
        "id": "SjZhkmXVGNpX"
      }
    },
    {
      "cell_type": "markdown",
      "source": [
        "## 字串(str)格式化"
      ],
      "metadata": {
        "id": "dWfLyfN_GR45"
      }
    },
    {
      "cell_type": "code",
      "execution_count": null,
      "metadata": {
        "id": "SQ8Mjr9dDoa5"
      },
      "outputs": [],
      "source": [
        "x = 1\n",
        "y = 3.14159\n",
        "z = True"
      ]
    },
    {
      "cell_type": "markdown",
      "source": [
        "### Python2的方式"
      ],
      "metadata": {
        "id": "T96yAxBlGyqm"
      }
    },
    {
      "cell_type": "code",
      "source": [
        "print('x=%s, y=%s, z=%s' % (x, y, z))"
      ],
      "metadata": {
        "colab": {
          "base_uri": "https://localhost:8080/"
        },
        "id": "jmgMRwMdHO1d",
        "outputId": "56ffd0ed-5e60-4dc6-ca74-9a75a4338166"
      },
      "execution_count": null,
      "outputs": [
        {
          "output_type": "stream",
          "name": "stdout",
          "text": [
            "x=1, y=3.14159, z=True\n"
          ]
        }
      ]
    },
    {
      "cell_type": "markdown",
      "source": [
        "### Python3的方式"
      ],
      "metadata": {
        "id": "edPZWrjUG4p6"
      }
    },
    {
      "cell_type": "code",
      "source": [
        "print('x={0}, y={1}, z={2}'.format(x, y, z))"
      ],
      "metadata": {
        "colab": {
          "base_uri": "https://localhost:8080/"
        },
        "id": "91T-uuChHeyK",
        "outputId": "a0130d45-d4fe-471e-cbfb-02a66e3a2649"
      },
      "execution_count": null,
      "outputs": [
        {
          "output_type": "stream",
          "name": "stdout",
          "text": [
            "x=1, y=3.14159, z=True\n"
          ]
        }
      ]
    },
    {
      "cell_type": "markdown",
      "source": [
        "## f-string"
      ],
      "metadata": {
        "id": "rlqKis8aG8VR"
      }
    },
    {
      "cell_type": "code",
      "source": [
        "print(f'x={x}, y={y}, z={z}') # f-string"
      ],
      "metadata": {
        "colab": {
          "base_uri": "https://localhost:8080/"
        },
        "id": "-37LjgBFG4No",
        "outputId": "7128de3f-203e-4dc9-a376-c8414db8bc13"
      },
      "execution_count": null,
      "outputs": [
        {
          "output_type": "stream",
          "name": "stdout",
          "text": [
            "x=1, y=3.14159, z=True\n"
          ]
        }
      ]
    },
    {
      "cell_type": "code",
      "source": [
        "print('x={x}, y={y}, z={z}') # f-string"
      ],
      "metadata": {
        "id": "ND5V3qMIH3nD",
        "outputId": "285c8e03-dc4f-4706-84e8-24cea321946c",
        "colab": {
          "base_uri": "https://localhost:8080/"
        }
      },
      "execution_count": null,
      "outputs": [
        {
          "output_type": "stream",
          "name": "stdout",
          "text": [
            "x={x}, y={y}, z={z}\n"
          ]
        }
      ]
    },
    {
      "cell_type": "code",
      "source": [
        "# 畫一個金字塔\n",
        "for i in range(5):\n",
        "    print((5-i)*' '+(2*i+1)*'*')"
      ],
      "metadata": {
        "colab": {
          "base_uri": "https://localhost:8080/"
        },
        "id": "yatysuF5Gjss",
        "outputId": "24114159-2598-4d6e-88fd-ea672ab4c41c"
      },
      "execution_count": null,
      "outputs": [
        {
          "output_type": "stream",
          "name": "stdout",
          "text": [
            "     *\n",
            "    ***\n",
            "   *****\n",
            "  *******\n",
            " *********\n"
          ]
        }
      ]
    },
    {
      "cell_type": "markdown",
      "source": [
        "### f-string應用練習"
      ],
      "metadata": {
        "id": "QD9uFXI2Ad1_"
      }
    },
    {
      "cell_type": "code",
      "source": [
        "!pip install requests"
      ],
      "metadata": {
        "colab": {
          "base_uri": "https://localhost:8080/"
        },
        "id": "n7fBf5ZJBcdN",
        "outputId": "544880e1-8623-4807-8d12-3ed7dd3494ae"
      },
      "execution_count": null,
      "outputs": [
        {
          "output_type": "stream",
          "name": "stdout",
          "text": [
            "Requirement already satisfied: requests in /usr/local/lib/python3.11/dist-packages (2.32.3)\n",
            "Requirement already satisfied: charset-normalizer<4,>=2 in /usr/local/lib/python3.11/dist-packages (from requests) (3.4.1)\n",
            "Requirement already satisfied: idna<4,>=2.5 in /usr/local/lib/python3.11/dist-packages (from requests) (3.10)\n",
            "Requirement already satisfied: urllib3<3,>=1.21.1 in /usr/local/lib/python3.11/dist-packages (from requests) (2.3.0)\n",
            "Requirement already satisfied: certifi>=2017.4.17 in /usr/local/lib/python3.11/dist-packages (from requests) (2025.1.31)\n"
          ]
        }
      ]
    },
    {
      "cell_type": "code",
      "source": [
        "import requests\n",
        "\n",
        "def lookup(word):\n",
        "  try:\n",
        "    data = requests.get(f\"https://www.moedict.tw/uni/{word}\").json()\n",
        "    return data['heteronyms'][0]['definitions'][0]['def']\n",
        "  except Exception as e:\n",
        "    print(f\"發生錯誤, 錯誤原因是{e}\")\n",
        "    return e"
      ],
      "metadata": {
        "id": "AHiw21JeBA7I"
      },
      "execution_count": 6,
      "outputs": []
    },
    {
      "cell_type": "code",
      "source": [
        "lookup('老師')"
      ],
      "metadata": {
        "colab": {
          "base_uri": "https://localhost:8080/",
          "height": 35
        },
        "id": "_vGf6cGOEmZf",
        "outputId": "a4f681aa-d3a9-408c-ac8a-e8f978c9907f"
      },
      "execution_count": 7,
      "outputs": [
        {
          "output_type": "execute_result",
          "data": {
            "text/plain": [
              "'對傳授道業、學問或技藝者的尊稱。'"
            ],
            "application/vnd.google.colaboratory.intrinsic+json": {
              "type": "string"
            }
          },
          "metadata": {},
          "execution_count": 7
        }
      ]
    }
  ]
}