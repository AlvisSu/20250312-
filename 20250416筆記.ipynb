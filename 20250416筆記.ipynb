{
  "nbformat": 4,
  "nbformat_minor": 0,
  "metadata": {
    "colab": {
      "provenance": [],
      "authorship_tag": "ABX9TyOzcQv0Zl/hp4thyVhG1oIf",
      "include_colab_link": true
    },
    "kernelspec": {
      "name": "python3",
      "display_name": "Python 3"
    },
    "language_info": {
      "name": "python"
    }
  },
  "cells": [
    {
      "cell_type": "markdown",
      "metadata": {
        "id": "view-in-github",
        "colab_type": "text"
      },
      "source": [
        "<a href=\"https://colab.research.google.com/github/AlvisSu/20250312-/blob/main/20250416%E7%AD%86%E8%A8%98.ipynb\" target=\"_parent\"><img src=\"https://colab.research.google.com/assets/colab-badge.svg\" alt=\"Open In Colab\"/></a>"
      ]
    },
    {
      "cell_type": "markdown",
      "source": [
        "# 20250416筆記"
      ],
      "metadata": {
        "id": "SjZhkmXVGNpX"
      }
    },
    {
      "cell_type": "markdown",
      "source": [
        "## 字串(str)格式化"
      ],
      "metadata": {
        "id": "dWfLyfN_GR45"
      }
    },
    {
      "cell_type": "code",
      "execution_count": null,
      "metadata": {
        "id": "SQ8Mjr9dDoa5"
      },
      "outputs": [],
      "source": [
        "x = 1\n",
        "y = 3.14159\n",
        "z = True"
      ]
    },
    {
      "cell_type": "markdown",
      "source": [
        "### Python2的方式"
      ],
      "metadata": {
        "id": "T96yAxBlGyqm"
      }
    },
    {
      "cell_type": "code",
      "source": [
        "print('x=%s, y=%s, z=%s' % (x, y, z))"
      ],
      "metadata": {
        "colab": {
          "base_uri": "https://localhost:8080/"
        },
        "id": "jmgMRwMdHO1d",
        "outputId": "56ffd0ed-5e60-4dc6-ca74-9a75a4338166"
      },
      "execution_count": null,
      "outputs": [
        {
          "output_type": "stream",
          "name": "stdout",
          "text": [
            "x=1, y=3.14159, z=True\n"
          ]
        }
      ]
    },
    {
      "cell_type": "markdown",
      "source": [
        "### Python3的方式"
      ],
      "metadata": {
        "id": "edPZWrjUG4p6"
      }
    },
    {
      "cell_type": "code",
      "source": [
        "print('x={0}, y={1}, z={2}'.format(x, y, z))"
      ],
      "metadata": {
        "colab": {
          "base_uri": "https://localhost:8080/"
        },
        "id": "91T-uuChHeyK",
        "outputId": "a0130d45-d4fe-471e-cbfb-02a66e3a2649"
      },
      "execution_count": null,
      "outputs": [
        {
          "output_type": "stream",
          "name": "stdout",
          "text": [
            "x=1, y=3.14159, z=True\n"
          ]
        }
      ]
    },
    {
      "cell_type": "markdown",
      "source": [
        "## f-string"
      ],
      "metadata": {
        "id": "rlqKis8aG8VR"
      }
    },
    {
      "cell_type": "code",
      "source": [
        "print(f'x={x}, y={y}, z={z}') # f-string"
      ],
      "metadata": {
        "colab": {
          "base_uri": "https://localhost:8080/"
        },
        "id": "-37LjgBFG4No",
        "outputId": "7128de3f-203e-4dc9-a376-c8414db8bc13"
      },
      "execution_count": null,
      "outputs": [
        {
          "output_type": "stream",
          "name": "stdout",
          "text": [
            "x=1, y=3.14159, z=True\n"
          ]
        }
      ]
    },
    {
      "cell_type": "code",
      "source": [
        "print('x={x}, y={y}, z={z}') # f-string"
      ],
      "metadata": {
        "id": "ND5V3qMIH3nD",
        "outputId": "285c8e03-dc4f-4706-84e8-24cea321946c",
        "colab": {
          "base_uri": "https://localhost:8080/"
        }
      },
      "execution_count": null,
      "outputs": [
        {
          "output_type": "stream",
          "name": "stdout",
          "text": [
            "x={x}, y={y}, z={z}\n"
          ]
        }
      ]
    },
    {
      "cell_type": "code",
      "source": [
        "# 畫一個金字塔\n",
        "for i in range(5):\n",
        "    print((5-i)*' '+(2*i+1)*'*')"
      ],
      "metadata": {
        "colab": {
          "base_uri": "https://localhost:8080/"
        },
        "id": "yatysuF5Gjss",
        "outputId": "24114159-2598-4d6e-88fd-ea672ab4c41c"
      },
      "execution_count": null,
      "outputs": [
        {
          "output_type": "stream",
          "name": "stdout",
          "text": [
            "     *\n",
            "    ***\n",
            "   *****\n",
            "  *******\n",
            " *********\n"
          ]
        }
      ]
    },
    {
      "cell_type": "markdown",
      "source": [
        "### f-string應用練習"
      ],
      "metadata": {
        "id": "QD9uFXI2Ad1_"
      }
    },
    {
      "cell_type": "code",
      "source": [
        "!pip install requests"
      ],
      "metadata": {
        "colab": {
          "base_uri": "https://localhost:8080/"
        },
        "id": "n7fBf5ZJBcdN",
        "outputId": "544880e1-8623-4807-8d12-3ed7dd3494ae"
      },
      "execution_count": null,
      "outputs": [
        {
          "output_type": "stream",
          "name": "stdout",
          "text": [
            "Requirement already satisfied: requests in /usr/local/lib/python3.11/dist-packages (2.32.3)\n",
            "Requirement already satisfied: charset-normalizer<4,>=2 in /usr/local/lib/python3.11/dist-packages (from requests) (3.4.1)\n",
            "Requirement already satisfied: idna<4,>=2.5 in /usr/local/lib/python3.11/dist-packages (from requests) (3.10)\n",
            "Requirement already satisfied: urllib3<3,>=1.21.1 in /usr/local/lib/python3.11/dist-packages (from requests) (2.3.0)\n",
            "Requirement already satisfied: certifi>=2017.4.17 in /usr/local/lib/python3.11/dist-packages (from requests) (2025.1.31)\n"
          ]
        }
      ]
    },
    {
      "cell_type": "code",
      "source": [
        "import requests\n",
        "\n",
        "def lookup(word):\n",
        "  try:\n",
        "    data = requests.get(f\"https://www.moedict.tw/uni/{word}\").json()\n",
        "    return data['heteronyms'][0]['definitions'][0]['def']\n",
        "  except Exception as e:\n",
        "    print(f\"發生錯誤, 錯誤原因是{e}\")\n",
        "    return e"
      ],
      "metadata": {
        "id": "AHiw21JeBA7I"
      },
      "execution_count": 6,
      "outputs": []
    },
    {
      "cell_type": "code",
      "source": [
        "lookup('老師')"
      ],
      "metadata": {
        "colab": {
          "base_uri": "https://localhost:8080/",
          "height": 35
        },
        "id": "_vGf6cGOEmZf",
        "outputId": "a4f681aa-d3a9-408c-ac8a-e8f978c9907f"
      },
      "execution_count": 7,
      "outputs": [
        {
          "output_type": "execute_result",
          "data": {
            "text/plain": [
              "'對傳授道業、學問或技藝者的尊稱。'"
            ],
            "application/vnd.google.colaboratory.intrinsic+json": {
              "type": "string"
            }
          },
          "metadata": {},
          "execution_count": 7
        }
      ]
    },
    {
      "cell_type": "markdown",
      "source": [
        "## 爬蟲簡介"
      ],
      "metadata": {
        "id": "ZMBR5NdFGFB0"
      }
    },
    {
      "cell_type": "markdown",
      "source": [
        "* 抓取資料 (requests)\n",
        "* 剖析資料 (BeautifulSoup)"
      ],
      "metadata": {
        "id": "dQL-XvX2GIAJ"
      }
    },
    {
      "cell_type": "markdown",
      "source": [
        "### 抓取資料"
      ],
      "metadata": {
        "id": "rYkbJM3_HMiJ"
      }
    },
    {
      "cell_type": "code",
      "source": [
        "import requests"
      ],
      "metadata": {
        "id": "8EgrgD3RGTvt"
      },
      "execution_count": 8,
      "outputs": []
    },
    {
      "cell_type": "code",
      "source": [
        "r = requests.get(\"https://victorgau.github.io/khpy_web_intro/html_only.html\")"
      ],
      "metadata": {
        "id": "HKifMKWSGYoD"
      },
      "execution_count": 10,
      "outputs": []
    },
    {
      "cell_type": "code",
      "source": [
        "print(r.text)"
      ],
      "metadata": {
        "colab": {
          "base_uri": "https://localhost:8080/"
        },
        "id": "rU9UhczQGl6I",
        "outputId": "4d8c00d8-917b-4681-a02a-b701ce2f6190"
      },
      "execution_count": 11,
      "outputs": [
        {
          "output_type": "stream",
          "name": "stdout",
          "text": [
            "<!DOCTYPE html>\n",
            "<html>\n",
            "<head>\n",
            "    <title>HTML範例</title>\n",
            "</head>\n",
            "<body>\n",
            "\n",
            "<h1>哈囉！HTML！</h1>\n",
            "\n",
            "<img src=\"ninja.jpg\" />\n",
            "\n",
            "</body>\n",
            "</html>\n"
          ]
        }
      ]
    },
    {
      "cell_type": "code",
      "source": [
        "r.request.headers"
      ],
      "metadata": {
        "colab": {
          "base_uri": "https://localhost:8080/"
        },
        "id": "RZ_8R4seHKaO",
        "outputId": "5c77288c-b334-4d4b-ac6b-b70ce1eaefeb"
      },
      "execution_count": 13,
      "outputs": [
        {
          "output_type": "execute_result",
          "data": {
            "text/plain": [
              "{'User-Agent': 'python-requests/2.32.3', 'Accept-Encoding': 'gzip, deflate, zstd', 'Accept': '*/*', 'Connection': 'keep-alive'}"
            ]
          },
          "metadata": {},
          "execution_count": 13
        }
      ]
    },
    {
      "cell_type": "markdown",
      "source": [
        "### 剖析資料"
      ],
      "metadata": {
        "id": "kEUH0V3IJgCk"
      }
    },
    {
      "cell_type": "code",
      "source": [
        "from bs4 import BeautifulSoup"
      ],
      "metadata": {
        "id": "YLAcLHoGH1th"
      },
      "execution_count": 14,
      "outputs": []
    },
    {
      "cell_type": "code",
      "source": [
        "soup = BeautifulSoup(r.text)"
      ],
      "metadata": {
        "id": "lCJWSZd-JuV5"
      },
      "execution_count": 16,
      "outputs": []
    },
    {
      "cell_type": "code",
      "source": [
        "soup.title"
      ],
      "metadata": {
        "colab": {
          "base_uri": "https://localhost:8080/"
        },
        "id": "xg83_89xKC4R",
        "outputId": "f987b72a-bc8b-48d7-fbf5-c33a476c4b95"
      },
      "execution_count": 17,
      "outputs": [
        {
          "output_type": "execute_result",
          "data": {
            "text/plain": [
              "<title>HTML範例</title>"
            ]
          },
          "metadata": {},
          "execution_count": 17
        }
      ]
    },
    {
      "cell_type": "code",
      "source": [
        "r.text"
      ],
      "metadata": {
        "colab": {
          "base_uri": "https://localhost:8080/",
          "height": 52
        },
        "id": "7l5esb6qKHq0",
        "outputId": "2c3297bb-5314-40f7-fc49-194de7dff4c3"
      },
      "execution_count": 18,
      "outputs": [
        {
          "output_type": "execute_result",
          "data": {
            "text/plain": [
              "'<!DOCTYPE html>\\n<html>\\n<head>\\n    <title>HTML範例</title>\\n</head>\\n<body>\\n\\n<h1>哈囉！HTML！</h1>\\n\\n<img src=\"ninja.jpg\" />\\n\\n</body>\\n</html>'"
            ],
            "application/vnd.google.colaboratory.intrinsic+json": {
              "type": "string"
            }
          },
          "metadata": {},
          "execution_count": 18
        }
      ]
    },
    {
      "cell_type": "code",
      "source": [
        "r.text[30:50]"
      ],
      "metadata": {
        "colab": {
          "base_uri": "https://localhost:8080/",
          "height": 35
        },
        "id": "P8lT5vVZKOli",
        "outputId": "c70df043-ed0d-490f-ee19-487e302b4b79"
      },
      "execution_count": 19,
      "outputs": [
        {
          "output_type": "execute_result",
          "data": {
            "text/plain": [
              "'    <title>HTML範例</t'"
            ],
            "application/vnd.google.colaboratory.intrinsic+json": {
              "type": "string"
            }
          },
          "metadata": {},
          "execution_count": 19
        }
      ]
    },
    {
      "cell_type": "code",
      "source": [
        "soup.title.text"
      ],
      "metadata": {
        "colab": {
          "base_uri": "https://localhost:8080/",
          "height": 35
        },
        "id": "RYpkAftoRoEA",
        "outputId": "ef89289f-a5eb-4b49-9d38-e8874346666e"
      },
      "execution_count": 20,
      "outputs": [
        {
          "output_type": "execute_result",
          "data": {
            "text/plain": [
              "'HTML範例'"
            ],
            "application/vnd.google.colaboratory.intrinsic+json": {
              "type": "string"
            }
          },
          "metadata": {},
          "execution_count": 20
        }
      ]
    },
    {
      "cell_type": "code",
      "source": [
        "soup.img"
      ],
      "metadata": {
        "colab": {
          "base_uri": "https://localhost:8080/"
        },
        "id": "-KtIRX1WRtV7",
        "outputId": "daca4b75-0914-481f-eb31-daa66f18383b"
      },
      "execution_count": 21,
      "outputs": [
        {
          "output_type": "execute_result",
          "data": {
            "text/plain": [
              "<img src=\"ninja.jpg\"/>"
            ]
          },
          "metadata": {},
          "execution_count": 21
        }
      ]
    },
    {
      "cell_type": "code",
      "source": [
        "soup.img.get('src')"
      ],
      "metadata": {
        "colab": {
          "base_uri": "https://localhost:8080/",
          "height": 35
        },
        "id": "TuBfh6sZSGyg",
        "outputId": "fb787d9e-fec0-4b29-a5d1-ab3c8f5303e3"
      },
      "execution_count": 22,
      "outputs": [
        {
          "output_type": "execute_result",
          "data": {
            "text/plain": [
              "'ninja.jpg'"
            ],
            "application/vnd.google.colaboratory.intrinsic+json": {
              "type": "string"
            }
          },
          "metadata": {},
          "execution_count": 22
        }
      ]
    },
    {
      "cell_type": "markdown",
      "source": [
        "### 爬蟲應用練習01"
      ],
      "metadata": {
        "id": "tavr0iwSSVny"
      }
    },
    {
      "cell_type": "code",
      "source": [
        "r = requests.get(\"https://victorgau.github.io/khpy_web_intro/\")"
      ],
      "metadata": {
        "id": "RTdcpXDVSYKn"
      },
      "execution_count": 23,
      "outputs": []
    },
    {
      "cell_type": "code",
      "source": [
        "print(r.text)"
      ],
      "metadata": {
        "colab": {
          "base_uri": "https://localhost:8080/"
        },
        "id": "w0EO6vpYShi9",
        "outputId": "70ac798a-46c6-49e2-f099-2051e61a2145"
      },
      "execution_count": 24,
      "outputs": [
        {
          "output_type": "stream",
          "name": "stdout",
          "text": [
            "<!DOCTYPE html>\n",
            "<html>\n",
            "<head>\n",
            "    <!-- Required meta tags -->\n",
            "    <meta charset=\"utf-8\">\n",
            "    <meta name=\"viewport\" content=\"width=device-width, initial-scale=1, shrink-to-fit=no\">\n",
            "\n",
            "    <!-- Bootstrap CSS -->\n",
            "    <link rel=\"stylesheet\" href=\"https://maxcdn.bootstrapcdn.com/bootstrap/4.0.0/css/bootstrap.min.css\" integrity=\"sha384-Gn5384xqQ1aoWXA+058RXPxPg6fy4IWvTNh0E263XmFcJlSAwiGgFAW/dAiS6JXm\" crossorigin=\"anonymous\">\n",
            "    <link rel=\"stylesheet\" href=\"https://cdn.jsdelivr.net/npm/bootstrap-icons@1.5.0/font/bootstrap-icons.css\">\n",
            "    <title>範例索引</title>\n",
            "</head>\n",
            "<body>\n",
            "    <div class=\"container\">\n",
            "        <div class=\"row my-5\">\n",
            "            <div class=\"col\">\n",
            "                <h1 class=\"bg-warning p-3 rounded\">Web及爬蟲簡介課程範例</h1>\n",
            "\n",
            "                <ul class=\"list-group\">\n",
            "                    <li class=\"list-group-item\"><i class=\"bi bi-globe\"></i> <a href=\"html_only.html\">HTML 範例</a></li>\n",
            "                    <li class=\"list-group-item\"><i class=\"bi bi-globe\"></i> <a href=\"html_css.html\">HTML + CSS 範例</a></li>\n",
            "                    <li class=\"list-group-item\"><i class=\"bi bi-globe\"></i> <a href=\"html_css_javascript.html\">HTML + CSS + Javascript 範例</a></li>\n",
            "                    <li class=\"list-group-item\"><i class=\"bi bi-bug\"></i> <a href=\"example01.html\">example01.html (爬蟲抓取用範例)</a></li>\n",
            "                    <li class=\"list-group-item\"><i class=\"bi bi-bug\"></i> <a href=\"example02.html\">example02.html (爬蟲抓取用範例)</a></li>\n",
            "                    <li class=\"list-group-item\"><i class=\"bi bi-bug\"></i> <a href=\"example03.html\">example03.html (爬蟲抓取用範例)</a></li>\n",
            "                    <li class=\"list-group-item\"><i class=\"bi bi-bug\"></i> <a href=\"example04.html\">example04.html (爬蟲抓取用範例)</a></li>\n",
            "                    <li class=\"list-group-item\"><i class=\"bi bi-bug\"></i> <a href=\"example05.html\">example05.html (爬蟲抓取用範例)</a></li>\n",
            "                    <li class=\"list-group-item\"><i class=\"bi bi-bug\"></i> <a href=\"spy.html\">Classic HTML 範例 (爬蟲抓取用範例)</a></li>\n",
            "                    <li class=\"list-group-item\"><i class=\"bi bi-bug\"></i> <a href=\"spy_ajax.html\">Ajax 範例 (爬蟲抓取用範例)</a></li>\n",
            "                    <li class=\"list-group-item\"><i class=\"bi bi-bug\"></i> <a href=\"form_get.html\">HTTP GET 方法說明</a></li>\n",
            "                    <li class=\"list-group-item\"><i class=\"bi bi-bug\"></i> <a href=\"form_post.html\">HTTP POST 方法說明</a></li>\n",
            "                </ul>         \n",
            "            </div>\n",
            "    \n",
            "        </div>\n",
            "    </div>\n",
            "\n",
            "<!-- Optional JavaScript -->\n",
            "<!-- jQuery first, then Popper.js, then Bootstrap JS -->\n",
            "<script src=\"https://code.jquery.com/jquery-3.2.1.slim.min.js\" integrity=\"sha384-KJ3o2DKtIkvYIK3UENzmM7KCkRr/rE9/Qpg6aAZGJwFDMVNA/GpGFF93hXpG5KkN\" crossorigin=\"anonymous\"></script>\n",
            "<script src=\"https://cdnjs.cloudflare.com/ajax/libs/popper.js/1.12.9/umd/popper.min.js\" integrity=\"sha384-ApNbgh9B+Y1QKtv3Rn7W3mgPxhU9K/ScQsAP7hUibX39j7fakFPskvXusvfa0b4Q\" crossorigin=\"anonymous\"></script>\n",
            "<script src=\"https://maxcdn.bootstrapcdn.com/bootstrap/4.0.0/js/bootstrap.min.js\" integrity=\"sha384-JZR6Spejh4U02d8jOt6vLEHfe/JQGiRRSQQxSfFWpi1MquVdAyjUar5+76PVCmYl\" crossorigin=\"anonymous\"></script>\n",
            "\n",
            "</body>\n",
            "</html>\n"
          ]
        }
      ]
    },
    {
      "cell_type": "code",
      "source": [
        "soup = BeautifulSoup(r.text)"
      ],
      "metadata": {
        "id": "P76r1sn8SmOs"
      },
      "execution_count": 26,
      "outputs": []
    },
    {
      "cell_type": "code",
      "source": [
        "soup.select('a')"
      ],
      "metadata": {
        "colab": {
          "base_uri": "https://localhost:8080/"
        },
        "id": "9Xab2dPpS60o",
        "outputId": "76d28d02-647f-4468-cf42-be4bd7c8acab"
      },
      "execution_count": 27,
      "outputs": [
        {
          "output_type": "execute_result",
          "data": {
            "text/plain": [
              "[<a href=\"html_only.html\">HTML 範例</a>,\n",
              " <a href=\"html_css.html\">HTML + CSS 範例</a>,\n",
              " <a href=\"html_css_javascript.html\">HTML + CSS + Javascript 範例</a>,\n",
              " <a href=\"example01.html\">example01.html (爬蟲抓取用範例)</a>,\n",
              " <a href=\"example02.html\">example02.html (爬蟲抓取用範例)</a>,\n",
              " <a href=\"example03.html\">example03.html (爬蟲抓取用範例)</a>,\n",
              " <a href=\"example04.html\">example04.html (爬蟲抓取用範例)</a>,\n",
              " <a href=\"example05.html\">example05.html (爬蟲抓取用範例)</a>,\n",
              " <a href=\"spy.html\">Classic HTML 範例 (爬蟲抓取用範例)</a>,\n",
              " <a href=\"spy_ajax.html\">Ajax 範例 (爬蟲抓取用範例)</a>,\n",
              " <a href=\"form_get.html\">HTTP GET 方法說明</a>,\n",
              " <a href=\"form_post.html\">HTTP POST 方法說明</a>]"
            ]
          },
          "metadata": {},
          "execution_count": 27
        }
      ]
    },
    {
      "cell_type": "code",
      "source": [
        "results = soup.select('a')"
      ],
      "metadata": {
        "id": "RILHisR8TJIa"
      },
      "execution_count": 28,
      "outputs": []
    },
    {
      "cell_type": "code",
      "source": [
        "for result in results:\n",
        "  print(result.text)\n",
        "#看不太懂\n",
        "#想一下以下的補充"
      ],
      "metadata": {
        "colab": {
          "base_uri": "https://localhost:8080/"
        },
        "id": "UXXbBnPMTNFk",
        "outputId": "3bd1e856-67a9-410a-d359-b2c59683b66f"
      },
      "execution_count": 30,
      "outputs": [
        {
          "output_type": "stream",
          "name": "stdout",
          "text": [
            "HTML 範例\n",
            "HTML + CSS 範例\n",
            "HTML + CSS + Javascript 範例\n",
            "example01.html (爬蟲抓取用範例)\n",
            "example02.html (爬蟲抓取用範例)\n",
            "example03.html (爬蟲抓取用範例)\n",
            "example04.html (爬蟲抓取用範例)\n",
            "example05.html (爬蟲抓取用範例)\n",
            "Classic HTML 範例 (爬蟲抓取用範例)\n",
            "Ajax 範例 (爬蟲抓取用範例)\n",
            "HTTP GET 方法說明\n",
            "HTTP POST 方法說明\n"
          ]
        }
      ]
    },
    {
      "cell_type": "code",
      "source": [
        "soup.select('a')[0]"
      ],
      "metadata": {
        "colab": {
          "base_uri": "https://localhost:8080/"
        },
        "id": "TaJL1mg9Ts0o",
        "outputId": "bb9eee69-6af2-45a4-8caa-cd5f9246e8bb"
      },
      "execution_count": 31,
      "outputs": [
        {
          "output_type": "execute_result",
          "data": {
            "text/plain": [
              "<a href=\"html_only.html\">HTML 範例</a>"
            ]
          },
          "metadata": {},
          "execution_count": 31
        }
      ]
    },
    {
      "cell_type": "code",
      "source": [
        "soup.select('a')[0].text"
      ],
      "metadata": {
        "colab": {
          "base_uri": "https://localhost:8080/",
          "height": 35
        },
        "id": "GzZ6qHuATwDX",
        "outputId": "8add06c8-5643-4f77-abe2-fd6e8bf3cbb9"
      },
      "execution_count": 32,
      "outputs": [
        {
          "output_type": "execute_result",
          "data": {
            "text/plain": [
              "'HTML 範例'"
            ],
            "application/vnd.google.colaboratory.intrinsic+json": {
              "type": "string"
            }
          },
          "metadata": {},
          "execution_count": 32
        }
      ]
    },
    {
      "cell_type": "code",
      "source": [
        "len(results)"
      ],
      "metadata": {
        "colab": {
          "base_uri": "https://localhost:8080/"
        },
        "id": "uTzxKye0UJwo",
        "outputId": "5cb929d0-a302-4cda-8af3-8cedcff1b820"
      },
      "execution_count": 33,
      "outputs": [
        {
          "output_type": "execute_result",
          "data": {
            "text/plain": [
              "12"
            ]
          },
          "metadata": {},
          "execution_count": 33
        }
      ]
    },
    {
      "cell_type": "code",
      "source": [
        "total = len(results)\n",
        "for i in range(total):\n",
        "  print(results[i].text)\n",
        "\n",
        "#???消化一下"
      ],
      "metadata": {
        "colab": {
          "base_uri": "https://localhost:8080/"
        },
        "id": "3Pz6he0-T83B",
        "outputId": "f0ef9967-b23f-40a1-e064-fa40a9215753"
      },
      "execution_count": 35,
      "outputs": [
        {
          "output_type": "stream",
          "name": "stdout",
          "text": [
            "HTML 範例\n",
            "HTML + CSS 範例\n",
            "HTML + CSS + Javascript 範例\n",
            "example01.html (爬蟲抓取用範例)\n",
            "example02.html (爬蟲抓取用範例)\n",
            "example03.html (爬蟲抓取用範例)\n",
            "example04.html (爬蟲抓取用範例)\n",
            "example05.html (爬蟲抓取用範例)\n",
            "Classic HTML 範例 (爬蟲抓取用範例)\n",
            "Ajax 範例 (爬蟲抓取用範例)\n",
            "HTTP GET 方法說明\n",
            "HTTP POST 方法說明\n"
          ]
        }
      ]
    },
    {
      "cell_type": "code",
      "source": [
        "print(results[0])"
      ],
      "metadata": {
        "colab": {
          "base_uri": "https://localhost:8080/"
        },
        "id": "unriQxWEVOP9",
        "outputId": "3e880e47-cefe-4973-dc23-8de76ce940f8"
      },
      "execution_count": 38,
      "outputs": [
        {
          "output_type": "stream",
          "name": "stdout",
          "text": [
            "<a href=\"html_only.html\">HTML 範例</a>\n"
          ]
        }
      ]
    },
    {
      "cell_type": "code",
      "source": [
        "for i in range(5):\n",
        "  print(i)"
      ],
      "metadata": {
        "colab": {
          "base_uri": "https://localhost:8080/"
        },
        "id": "a9pVKINUUA_p",
        "outputId": "90678a7a-60b9-4976-8da5-d1e9690cbf0d"
      },
      "execution_count": 37,
      "outputs": [
        {
          "output_type": "stream",
          "name": "stdout",
          "text": [
            "0\n",
            "1\n",
            "2\n",
            "3\n",
            "4\n"
          ]
        }
      ]
    },
    {
      "cell_type": "markdown",
      "source": [
        "### 爬蟲應用練習02\n",
        "\n",
        "* 把網頁抓下來"
      ],
      "metadata": {
        "id": "tZubo75wWaVu"
      }
    },
    {
      "cell_type": "code",
      "source": [
        "r = requests.get(\"https://victorgau.github.io/khpy_web_intro/html_only.html\")"
      ],
      "metadata": {
        "id": "GJ5qoa8BWhZl"
      },
      "execution_count": 39,
      "outputs": []
    },
    {
      "cell_type": "code",
      "source": [
        "with open(\"index.html\", \"w\", encoding=\"utf-8\") as f:\n",
        "  f.write(r.text)\n",
        "#\"index.html\" > 檔案名稱\n",
        "#\"w\" > 寫入資料\n",
        "#encoding=\"utf-8\" > 編碼格式\n",
        "#抓下來的檔案會在資料夾裡"
      ],
      "metadata": {
        "id": "xbBYcExJWxh-"
      },
      "execution_count": 41,
      "outputs": []
    },
    {
      "cell_type": "markdown",
      "source": [
        "### 爬蟲應用練習03\n",
        "\n",
        "* 把圖片抓下來"
      ],
      "metadata": {
        "id": "0bEygH2wWfhu"
      }
    },
    {
      "cell_type": "code",
      "source": [
        "r = requests.get(\"https://victorgau.github.io/khpy_web_intro/ninja.jpg\")"
      ],
      "metadata": {
        "id": "3dmCRGqvWdfO"
      },
      "execution_count": 42,
      "outputs": []
    },
    {
      "cell_type": "code",
      "source": [
        "with open(\"ninja.jpg\", \"wb\") as f:\n",
        "  f.write(r.content)\n",
        "#w\"b\" > 圖片為二進位加b\n",
        "#encoding=\"utf-8\" > 為文字編碼所需，圖片為二進位不需要"
      ],
      "metadata": {
        "id": "sybpShj3XxPk"
      },
      "execution_count": 43,
      "outputs": []
    },
    {
      "cell_type": "code",
      "source": [
        "with open(\"images/ninja.jpg\", \"wb\") as f:\n",
        "  f.write(r.content)"
      ],
      "metadata": {
        "id": "i6sN-Bs7ZQm2"
      },
      "execution_count": 45,
      "outputs": []
    },
    {
      "cell_type": "markdown",
      "source": [
        "### 爬蟲應用練習04\n",
        "\n",
        "https://arxiv.org/pdf/2504.13178"
      ],
      "metadata": {
        "id": "c5CrtMVpZNfN"
      }
    },
    {
      "cell_type": "code",
      "source": [
        "r = requests.get(\"https://arxiv.org/pdf/2504.13178\")"
      ],
      "metadata": {
        "id": "gpZiOezaZty2"
      },
      "execution_count": 46,
      "outputs": []
    },
    {
      "cell_type": "code",
      "source": [
        "with open(\"sample.pdf\", \"wb\") as f:\n",
        "  f.write(r.content)"
      ],
      "metadata": {
        "id": "N6cFP9UiaHF0"
      },
      "execution_count": 47,
      "outputs": []
    }
  ]
}