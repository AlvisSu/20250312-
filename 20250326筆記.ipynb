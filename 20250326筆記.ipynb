{
  "nbformat": 4,
  "nbformat_minor": 0,
  "metadata": {
    "colab": {
      "provenance": [],
      "toc_visible": true,
      "authorship_tag": "ABX9TyPkdJ293QkeAacJ0iT7WEge",
      "include_colab_link": true
    },
    "kernelspec": {
      "name": "python3",
      "display_name": "Python 3"
    },
    "language_info": {
      "name": "python"
    }
  },
  "cells": [
    {
      "cell_type": "markdown",
      "metadata": {
        "id": "view-in-github",
        "colab_type": "text"
      },
      "source": [
        "<a href=\"https://colab.research.google.com/github/AlvisSu/20250312-/blob/main/20250326%E7%AD%86%E8%A8%98.ipynb\" target=\"_parent\"><img src=\"https://colab.research.google.com/assets/colab-badge.svg\" alt=\"Open In Colab\"/></a>"
      ]
    },
    {
      "cell_type": "markdown",
      "source": [
        "# 20250326筆記"
      ],
      "metadata": {
        "id": "LrGi0K4GfaZM"
      }
    },
    {
      "cell_type": "markdown",
      "source": [
        "## 複習\n",
        "\n",
        "### 基本資料型態\n",
        "\n",
        "* int\n",
        "* float\n",
        "* bool\n",
        "* str\n",
        "\n",
        "### 基本容器型別\n",
        "\n",
        "* list => []\n",
        "* tuple => ()\n",
        "* dict => {}\n",
        "* set => {}"
      ],
      "metadata": {
        "id": "X0uZbJ4dfeJi"
      }
    },
    {
      "cell_type": "markdown",
      "source": [
        "## list v.s. tuple"
      ],
      "metadata": {
        "id": "KxFCw-iXdTm1"
      }
    },
    {
      "cell_type": "code",
      "source": [
        "x = [1, 2, 3, 4, 5]\n",
        "y = (1, 2, 3, 4, 5)"
      ],
      "metadata": {
        "id": "c_9Gj9k7dMU-"
      },
      "execution_count": null,
      "outputs": []
    },
    {
      "cell_type": "code",
      "source": [
        "type(x)"
      ],
      "metadata": {
        "colab": {
          "base_uri": "https://localhost:8080/"
        },
        "id": "5Nn1EOEidoJm",
        "outputId": "a826c242-57a0-4934-9805-a90a320d2339"
      },
      "execution_count": 2,
      "outputs": [
        {
          "output_type": "execute_result",
          "data": {
            "text/plain": [
              "list"
            ]
          },
          "metadata": {},
          "execution_count": 2
        }
      ]
    },
    {
      "cell_type": "code",
      "source": [
        "type(y)"
      ],
      "metadata": {
        "colab": {
          "base_uri": "https://localhost:8080/"
        },
        "id": "_PQWBl6jdrI1",
        "outputId": "0549c4ec-38c7-4348-a255-acc5aedd85fd"
      },
      "execution_count": 3,
      "outputs": [
        {
          "output_type": "execute_result",
          "data": {
            "text/plain": [
              "tuple"
            ]
          },
          "metadata": {},
          "execution_count": 3
        }
      ]
    },
    {
      "cell_type": "code",
      "source": [
        "x[0]"
      ],
      "metadata": {
        "colab": {
          "base_uri": "https://localhost:8080/"
        },
        "id": "jvS-qiiPduYl",
        "outputId": "c0f7b1c5-c5dd-4f39-b11f-713aecd08b5f"
      },
      "execution_count": 4,
      "outputs": [
        {
          "output_type": "execute_result",
          "data": {
            "text/plain": [
              "1"
            ]
          },
          "metadata": {},
          "execution_count": 4
        }
      ]
    },
    {
      "cell_type": "code",
      "source": [
        "y[0]"
      ],
      "metadata": {
        "colab": {
          "base_uri": "https://localhost:8080/"
        },
        "id": "UrKF_AKLdxwN",
        "outputId": "ee8f790f-9e58-4f2f-8c25-b9255290f4e3"
      },
      "execution_count": 5,
      "outputs": [
        {
          "output_type": "execute_result",
          "data": {
            "text/plain": [
              "1"
            ]
          },
          "metadata": {},
          "execution_count": 5
        }
      ]
    },
    {
      "cell_type": "code",
      "source": [
        "x[:3]"
      ],
      "metadata": {
        "colab": {
          "base_uri": "https://localhost:8080/"
        },
        "id": "smVwkD22d0HV",
        "outputId": "b33f1ab2-b5b7-4503-dba5-d1efdeefd6e6"
      },
      "execution_count": 6,
      "outputs": [
        {
          "output_type": "execute_result",
          "data": {
            "text/plain": [
              "[1, 2, 3]"
            ]
          },
          "metadata": {},
          "execution_count": 6
        }
      ]
    },
    {
      "cell_type": "code",
      "source": [
        "y[:3]"
      ],
      "metadata": {
        "colab": {
          "base_uri": "https://localhost:8080/"
        },
        "id": "2RH3Gd1cd3P9",
        "outputId": "08fb118d-e1e9-4fa3-dfd4-11cb0a12b9f1"
      },
      "execution_count": 7,
      "outputs": [
        {
          "output_type": "execute_result",
          "data": {
            "text/plain": [
              "(1, 2, 3)"
            ]
          },
          "metadata": {},
          "execution_count": 7
        }
      ]
    },
    {
      "cell_type": "code",
      "source": [
        "x.append?"
      ],
      "metadata": {
        "id": "ncrwKE9yd801"
      },
      "execution_count": 8,
      "outputs": []
    },
    {
      "cell_type": "code",
      "source": [
        "x[2] = 300"
      ],
      "metadata": {
        "id": "_IoWhI2KeI-0"
      },
      "execution_count": 9,
      "outputs": []
    },
    {
      "cell_type": "code",
      "source": [
        "x"
      ],
      "metadata": {
        "colab": {
          "base_uri": "https://localhost:8080/"
        },
        "id": "oAq4O3BwejEs",
        "outputId": "e98b8eaa-65f4-4fcd-d30e-e762b2639c91"
      },
      "execution_count": 10,
      "outputs": [
        {
          "output_type": "execute_result",
          "data": {
            "text/plain": [
              "[1, 2, 300, 4, 5]"
            ]
          },
          "metadata": {},
          "execution_count": 10
        }
      ]
    },
    {
      "cell_type": "code",
      "source": [
        "y[2] = 300"
      ],
      "metadata": {
        "colab": {
          "base_uri": "https://localhost:8080/",
          "height": 141
        },
        "id": "rJDSThgJelLs",
        "outputId": "7d64f999-8c7b-4044-c30b-d288af3a3471"
      },
      "execution_count": 11,
      "outputs": [
        {
          "output_type": "error",
          "ename": "TypeError",
          "evalue": "'tuple' object does not support item assignment",
          "traceback": [
            "\u001b[0;31m---------------------------------------------------------------------------\u001b[0m",
            "\u001b[0;31mTypeError\u001b[0m                                 Traceback (most recent call last)",
            "\u001b[0;32m<ipython-input-11-bfde78110d7f>\u001b[0m in \u001b[0;36m<cell line: 0>\u001b[0;34m()\u001b[0m\n\u001b[0;32m----> 1\u001b[0;31m \u001b[0my\u001b[0m\u001b[0;34m[\u001b[0m\u001b[0;36m2\u001b[0m\u001b[0;34m]\u001b[0m \u001b[0;34m=\u001b[0m \u001b[0;36m300\u001b[0m\u001b[0;34m\u001b[0m\u001b[0;34m\u001b[0m\u001b[0m\n\u001b[0m",
            "\u001b[0;31mTypeError\u001b[0m: 'tuple' object does not support item assignment"
          ]
        }
      ]
    },
    {
      "cell_type": "markdown",
      "source": [
        "note:tuple指定的東西無法覆蓋掉"
      ],
      "metadata": {
        "id": "GVXejRfeesfk"
      }
    },
    {
      "cell_type": "markdown",
      "source": [
        "## dict"
      ],
      "metadata": {
        "id": "QBIIzH9rez3T"
      }
    },
    {
      "cell_type": "code",
      "source": [
        "d = {}"
      ],
      "metadata": {
        "id": "QNrcxUBKe1mD"
      },
      "execution_count": 12,
      "outputs": []
    },
    {
      "cell_type": "code",
      "source": [
        "type(d)"
      ],
      "metadata": {
        "colab": {
          "base_uri": "https://localhost:8080/"
        },
        "id": "G0O8vufme_RD",
        "outputId": "734a7fcc-4d84-4e62-ddd8-13ba1e4994b6"
      },
      "execution_count": 13,
      "outputs": [
        {
          "output_type": "execute_result",
          "data": {
            "text/plain": [
              "dict"
            ]
          },
          "metadata": {},
          "execution_count": 13
        }
      ]
    },
    {
      "cell_type": "code",
      "source": [
        "s = set()"
      ],
      "metadata": {
        "id": "hFa4ib56fDBD"
      },
      "execution_count": 14,
      "outputs": []
    },
    {
      "cell_type": "code",
      "source": [
        "type(s)"
      ],
      "metadata": {
        "colab": {
          "base_uri": "https://localhost:8080/"
        },
        "id": "pPiNFxYjfG07",
        "outputId": "5c8b640b-0ab6-42eb-fdc3-2a259f30be09"
      },
      "execution_count": 15,
      "outputs": [
        {
          "output_type": "execute_result",
          "data": {
            "text/plain": [
              "set"
            ]
          },
          "metadata": {},
          "execution_count": 15
        }
      ]
    },
    {
      "cell_type": "code",
      "source": [
        "d['cat'] = '貓咪'\n",
        "d['dog'] = '狗狗'"
      ],
      "metadata": {
        "id": "B0U3W3a6fJZ0"
      },
      "execution_count": 16,
      "outputs": []
    },
    {
      "cell_type": "code",
      "source": [
        "d"
      ],
      "metadata": {
        "colab": {
          "base_uri": "https://localhost:8080/"
        },
        "id": "IPRcrUu7fT-r",
        "outputId": "7e92c716-b15f-4ee0-b8b3-ee2f1aad4c43"
      },
      "execution_count": 17,
      "outputs": [
        {
          "output_type": "execute_result",
          "data": {
            "text/plain": [
              "{'cat': '貓咪', 'dog': '狗狗'}"
            ]
          },
          "metadata": {},
          "execution_count": 17
        }
      ]
    },
    {
      "cell_type": "code",
      "source": [
        "d['cat']"
      ],
      "metadata": {
        "colab": {
          "base_uri": "https://localhost:8080/",
          "height": 35
        },
        "id": "CeD3GgxpgF-q",
        "outputId": "64d3fab8-0a7d-4f63-b94a-4e399e146c66"
      },
      "execution_count": 18,
      "outputs": [
        {
          "output_type": "execute_result",
          "data": {
            "text/plain": [
              "'貓咪'"
            ],
            "application/vnd.google.colaboratory.intrinsic+json": {
              "type": "string"
            }
          },
          "metadata": {},
          "execution_count": 18
        }
      ]
    },
    {
      "cell_type": "code",
      "source": [
        "d.keys()"
      ],
      "metadata": {
        "colab": {
          "base_uri": "https://localhost:8080/"
        },
        "id": "FXaM0S4YgLmK",
        "outputId": "64508c04-b74a-400c-d96f-a96047dd5e6f"
      },
      "execution_count": 19,
      "outputs": [
        {
          "output_type": "execute_result",
          "data": {
            "text/plain": [
              "dict_keys(['cat', 'dog'])"
            ]
          },
          "metadata": {},
          "execution_count": 19
        }
      ]
    },
    {
      "cell_type": "code",
      "source": [
        "d.values()"
      ],
      "metadata": {
        "colab": {
          "base_uri": "https://localhost:8080/"
        },
        "id": "GK_CYYaKgQM6",
        "outputId": "5e560236-4e7f-4277-832d-f4531ba8aacb"
      },
      "execution_count": 21,
      "outputs": [
        {
          "output_type": "execute_result",
          "data": {
            "text/plain": [
              "dict_values(['貓咪', '狗狗'])"
            ]
          },
          "metadata": {},
          "execution_count": 21
        }
      ]
    },
    {
      "cell_type": "markdown",
      "source": [
        "## 應用練習\n",
        "\n",
        "使用萌典API...\n",
        "\n",
        "https://www.moedict.tw/uni/教室"
      ],
      "metadata": {
        "id": "HCF1NGhFgbqC"
      }
    },
    {
      "cell_type": "code",
      "source": [
        "import requests"
      ],
      "metadata": {
        "id": "PLOPRZiEhG2p"
      },
      "execution_count": 22,
      "outputs": []
    },
    {
      "cell_type": "code",
      "source": [
        "data = requests.get(\"https://www.moedict.tw/uni/教室\").json()"
      ],
      "metadata": {
        "id": "oVp0XqEYgX-s"
      },
      "execution_count": 26,
      "outputs": []
    },
    {
      "cell_type": "code",
      "source": [
        "data"
      ],
      "metadata": {
        "colab": {
          "base_uri": "https://localhost:8080/"
        },
        "id": "3Zq6l7YHhwiR",
        "outputId": "02cc4d93-f6ce-43c3-d670-5d0c0936b24f"
      },
      "execution_count": 27,
      "outputs": [
        {
          "output_type": "execute_result",
          "data": {
            "text/plain": [
              "{'heteronyms': [{'bopomofo': 'ㄐㄧㄠˋ ㄕˋ',\n",
              "   'bopomofo2': 'jiàu shr̀',\n",
              "   'definitions': [{'def': '學校裡進行教學活動的房間。',\n",
              "     'example': ['如：「實驗教室」、「音樂教室」。'],\n",
              "     'synonyms': '課堂,講堂'}],\n",
              "   'pinyin': 'jiào shì'}],\n",
              " 'title': '教室'}"
            ]
          },
          "metadata": {},
          "execution_count": 27
        }
      ]
    },
    {
      "cell_type": "code",
      "source": [
        "type(data)"
      ],
      "metadata": {
        "colab": {
          "base_uri": "https://localhost:8080/"
        },
        "id": "nJMahosKjAH_",
        "outputId": "af4c0934-1a1c-49a1-861b-9d204e7e7df0"
      },
      "execution_count": 28,
      "outputs": [
        {
          "output_type": "execute_result",
          "data": {
            "text/plain": [
              "dict"
            ]
          },
          "metadata": {},
          "execution_count": 28
        }
      ]
    },
    {
      "cell_type": "code",
      "source": [
        "data['heteronyms']"
      ],
      "metadata": {
        "colab": {
          "base_uri": "https://localhost:8080/"
        },
        "id": "HgmIC4JWjGBf",
        "outputId": "c2e9e644-b2dd-44dd-acf3-765f5168739c"
      },
      "execution_count": 29,
      "outputs": [
        {
          "output_type": "execute_result",
          "data": {
            "text/plain": [
              "[{'bopomofo': 'ㄐㄧㄠˋ ㄕˋ',\n",
              "  'bopomofo2': 'jiàu shr̀',\n",
              "  'definitions': [{'def': '學校裡進行教學活動的房間。',\n",
              "    'example': ['如：「實驗教室」、「音樂教室」。'],\n",
              "    'synonyms': '課堂,講堂'}],\n",
              "  'pinyin': 'jiào shì'}]"
            ]
          },
          "metadata": {},
          "execution_count": 29
        }
      ]
    },
    {
      "cell_type": "code",
      "source": [
        "type(data['heteronyms'])"
      ],
      "metadata": {
        "colab": {
          "base_uri": "https://localhost:8080/"
        },
        "id": "rY5c3ek-jm8O",
        "outputId": "baccae72-6ae1-44c3-b7f9-6456e229813f"
      },
      "execution_count": 30,
      "outputs": [
        {
          "output_type": "execute_result",
          "data": {
            "text/plain": [
              "list"
            ]
          },
          "metadata": {},
          "execution_count": 30
        }
      ]
    },
    {
      "cell_type": "code",
      "source": [
        "data['heteronyms'][0]"
      ],
      "metadata": {
        "colab": {
          "base_uri": "https://localhost:8080/"
        },
        "id": "C0bg3M1xjuGu",
        "outputId": "5f35ec76-7a80-44b8-faad-5b32940d9b89"
      },
      "execution_count": 31,
      "outputs": [
        {
          "output_type": "execute_result",
          "data": {
            "text/plain": [
              "{'bopomofo': 'ㄐㄧㄠˋ ㄕˋ',\n",
              " 'bopomofo2': 'jiàu shr̀',\n",
              " 'definitions': [{'def': '學校裡進行教學活動的房間。',\n",
              "   'example': ['如：「實驗教室」、「音樂教室」。'],\n",
              "   'synonyms': '課堂,講堂'}],\n",
              " 'pinyin': 'jiào shì'}"
            ]
          },
          "metadata": {},
          "execution_count": 31
        }
      ]
    },
    {
      "cell_type": "markdown",
      "source": [
        "第一筆資料"
      ],
      "metadata": {
        "id": "c904VS_ljxeW"
      }
    },
    {
      "cell_type": "code",
      "source": [
        "data['heteronyms'][0]['definitions']"
      ],
      "metadata": {
        "colab": {
          "base_uri": "https://localhost:8080/"
        },
        "id": "Lck24vKTjzCX",
        "outputId": "fdbff542-cd5f-4694-aca1-349ed0ad00d8"
      },
      "execution_count": 33,
      "outputs": [
        {
          "output_type": "execute_result",
          "data": {
            "text/plain": [
              "[{'def': '學校裡進行教學活動的房間。',\n",
              "  'example': ['如：「實驗教室」、「音樂教室」。'],\n",
              "  'synonyms': '課堂,講堂'}]"
            ]
          },
          "metadata": {},
          "execution_count": 33
        }
      ]
    },
    {
      "cell_type": "code",
      "source": [
        "data['heteronyms'][0]['bopomofo2']"
      ],
      "metadata": {
        "colab": {
          "base_uri": "https://localhost:8080/",
          "height": 35
        },
        "id": "FygsO_CGkt61",
        "outputId": "0d5e5fa2-1f2e-46ce-cc9e-dd201e5d88b1"
      },
      "execution_count": 36,
      "outputs": [
        {
          "output_type": "execute_result",
          "data": {
            "text/plain": [
              "'jiàu shr̀'"
            ],
            "application/vnd.google.colaboratory.intrinsic+json": {
              "type": "string"
            }
          },
          "metadata": {},
          "execution_count": 36
        }
      ]
    },
    {
      "cell_type": "code",
      "source": [
        "data['heteronyms'][0]['definitions'][0]"
      ],
      "metadata": {
        "colab": {
          "base_uri": "https://localhost:8080/"
        },
        "id": "97Ijzr_flA6N",
        "outputId": "0bc3b5c2-796a-4ce1-d5b3-03cbb01f456e"
      },
      "execution_count": 37,
      "outputs": [
        {
          "output_type": "execute_result",
          "data": {
            "text/plain": [
              "{'def': '學校裡進行教學活動的房間。', 'example': ['如：「實驗教室」、「音樂教室」。'], 'synonyms': '課堂,講堂'}"
            ]
          },
          "metadata": {},
          "execution_count": 37
        }
      ]
    },
    {
      "cell_type": "code",
      "source": [
        "data['heteronyms'][0]['definitions'][0]['def']"
      ],
      "metadata": {
        "colab": {
          "base_uri": "https://localhost:8080/",
          "height": 35
        },
        "id": "wdRZj1dYlcJE",
        "outputId": "db866fa8-d87e-4826-fe41-5f799906acbf"
      },
      "execution_count": 38,
      "outputs": [
        {
          "output_type": "execute_result",
          "data": {
            "text/plain": [
              "'學校裡進行教學活動的房間。'"
            ],
            "application/vnd.google.colaboratory.intrinsic+json": {
              "type": "string"
            }
          },
          "metadata": {},
          "execution_count": 38
        }
      ]
    },
    {
      "cell_type": "code",
      "source": [
        "def lookup(word):\n",
        "    data = requests.get(f\"https://www.moedict.tw/uni/{word}\").json()\n",
        "    return data['heteronyms'][0]['definitions'][0]['def']"
      ],
      "metadata": {
        "id": "_n1oVuk4lsrs"
      },
      "execution_count": 39,
      "outputs": []
    },
    {
      "cell_type": "code",
      "source": [
        "lookup('教室')"
      ],
      "metadata": {
        "colab": {
          "base_uri": "https://localhost:8080/",
          "height": 35
        },
        "id": "x8KhnXEml3Kl",
        "outputId": "6650e355-edb8-47a6-ff3d-c5afecbdd39c"
      },
      "execution_count": 40,
      "outputs": [
        {
          "output_type": "execute_result",
          "data": {
            "text/plain": [
              "'學校裡進行教學活動的房間。'"
            ],
            "application/vnd.google.colaboratory.intrinsic+json": {
              "type": "string"
            }
          },
          "metadata": {},
          "execution_count": 40
        }
      ]
    },
    {
      "cell_type": "code",
      "source": [
        "lookup('在天上飛的鳥')"
      ],
      "metadata": {
        "colab": {
          "base_uri": "https://localhost:8080/",
          "height": 228
        },
        "id": "pl5FK6WRl7Yb",
        "outputId": "2d934dbf-11a6-4516-d4b1-bd0c5c458fc5"
      },
      "execution_count": 43,
      "outputs": [
        {
          "output_type": "error",
          "ename": "KeyError",
          "evalue": "'heteronyms'",
          "traceback": [
            "\u001b[0;31m---------------------------------------------------------------------------\u001b[0m",
            "\u001b[0;31mKeyError\u001b[0m                                  Traceback (most recent call last)",
            "\u001b[0;32m<ipython-input-43-e4fa6a855fa1>\u001b[0m in \u001b[0;36m<cell line: 0>\u001b[0;34m()\u001b[0m\n\u001b[0;32m----> 1\u001b[0;31m \u001b[0mlookup\u001b[0m\u001b[0;34m(\u001b[0m\u001b[0;34m'在天上飛的鳥'\u001b[0m\u001b[0;34m)\u001b[0m\u001b[0;34m\u001b[0m\u001b[0;34m\u001b[0m\u001b[0m\n\u001b[0m",
            "\u001b[0;32m<ipython-input-39-609e52c63771>\u001b[0m in \u001b[0;36mlookup\u001b[0;34m(word)\u001b[0m\n\u001b[1;32m      1\u001b[0m \u001b[0;32mdef\u001b[0m \u001b[0mlookup\u001b[0m\u001b[0;34m(\u001b[0m\u001b[0mword\u001b[0m\u001b[0;34m)\u001b[0m\u001b[0;34m:\u001b[0m\u001b[0;34m\u001b[0m\u001b[0;34m\u001b[0m\u001b[0m\n\u001b[1;32m      2\u001b[0m     \u001b[0mdata\u001b[0m \u001b[0;34m=\u001b[0m \u001b[0mrequests\u001b[0m\u001b[0;34m.\u001b[0m\u001b[0mget\u001b[0m\u001b[0;34m(\u001b[0m\u001b[0;34mf\"https://www.moedict.tw/uni/{word}\"\u001b[0m\u001b[0;34m)\u001b[0m\u001b[0;34m.\u001b[0m\u001b[0mjson\u001b[0m\u001b[0;34m(\u001b[0m\u001b[0;34m)\u001b[0m\u001b[0;34m\u001b[0m\u001b[0;34m\u001b[0m\u001b[0m\n\u001b[0;32m----> 3\u001b[0;31m     \u001b[0;32mreturn\u001b[0m \u001b[0mdata\u001b[0m\u001b[0;34m[\u001b[0m\u001b[0;34m'heteronyms'\u001b[0m\u001b[0;34m]\u001b[0m\u001b[0;34m[\u001b[0m\u001b[0;36m0\u001b[0m\u001b[0;34m]\u001b[0m\u001b[0;34m[\u001b[0m\u001b[0;34m'definitions'\u001b[0m\u001b[0;34m]\u001b[0m\u001b[0;34m[\u001b[0m\u001b[0;36m0\u001b[0m\u001b[0;34m]\u001b[0m\u001b[0;34m[\u001b[0m\u001b[0;34m'def'\u001b[0m\u001b[0;34m]\u001b[0m\u001b[0;34m\u001b[0m\u001b[0;34m\u001b[0m\u001b[0m\n\u001b[0m",
            "\u001b[0;31mKeyError\u001b[0m: 'heteronyms'"
          ]
        }
      ]
    },
    {
      "cell_type": "markdown",
      "source": [
        "不只點出錯誤，還會出現部分程式碼，會有漏洞"
      ],
      "metadata": {
        "id": "_dYQb4aYmLkk"
      }
    },
    {
      "cell_type": "markdown",
      "source": [
        "## 基本語法\n",
        "\n",
        "* loops(迴圈)\n",
        "* funtions(函式)\n",
        "* if statements(條件式)\n",
        "* Exception Handling(例外處裡)"
      ],
      "metadata": {
        "id": "OSNhC1kgcuqP"
      }
    },
    {
      "cell_type": "markdown",
      "source": [
        "### if statements\n",
        "\n",
        "https://www.vcdemy.com/python/syntax/if/"
      ],
      "metadata": {
        "id": "Y4kG8NzEptOf"
      }
    },
    {
      "cell_type": "code",
      "execution_count": 47,
      "metadata": {
        "id": "4asYr9IWfDYT"
      },
      "outputs": [],
      "source": [
        "a = 5\n",
        "b = 4"
      ]
    },
    {
      "cell_type": "code",
      "source": [
        "if a < b:\n",
        "    print(\"a小於b\")"
      ],
      "metadata": {
        "id": "jyCN_BLcpTZQ"
      },
      "execution_count": 48,
      "outputs": []
    },
    {
      "cell_type": "code",
      "source": [
        "if a < b:\n",
        "    print(\"a小於b\")\n",
        "else:\n",
        "    print(\"a大於等於b\")"
      ],
      "metadata": {
        "colab": {
          "base_uri": "https://localhost:8080/"
        },
        "id": "s4CNAAimqUt3",
        "outputId": "333488a3-5f82-4482-a117-7ac7dd29bebd"
      },
      "execution_count": 49,
      "outputs": [
        {
          "output_type": "stream",
          "name": "stdout",
          "text": [
            "a大於等於b\n"
          ]
        }
      ]
    },
    {
      "cell_type": "code",
      "source": [
        "if a < b:\n",
        "    print(\"a小於b\")\n",
        "elif a > b:\n",
        "    print(\"a大於b\")\n",
        "else:\n",
        "    print(\"a等於b\")"
      ],
      "metadata": {
        "colab": {
          "base_uri": "https://localhost:8080/"
        },
        "id": "w0fFElcaqqfo",
        "outputId": "705a80ee-514b-40e1-c6b5-dc07b790a157"
      },
      "execution_count": 50,
      "outputs": [
        {
          "output_type": "stream",
          "name": "stdout",
          "text": [
            "a大於b\n"
          ]
        }
      ]
    },
    {
      "cell_type": "markdown",
      "source": [
        "### 應用練習\n",
        "\n",
        "計算BMI, 判斷健康狀況\n",
        "\n",
        "$bmi = \\frac{體重(公斤)}{身高(公尺)^2}$\n",
        "\n",
        "|BMI|健康狀況|\n",
        "|:-:|:--|\n",
        "|bmi < 18|體重太輕|\n",
        "|18 <= bmi < 24|體重正常|\n",
        "|bmi >= 24|體重過重|"
      ],
      "metadata": {
        "id": "WyMs-GXprAju"
      }
    },
    {
      "cell_type": "code",
      "source": [
        "w = 80\n",
        "h = 1.83\n",
        "\n",
        "bmi = w/h**2\n",
        "\n",
        "bmi"
      ],
      "metadata": {
        "colab": {
          "base_uri": "https://localhost:8080/"
        },
        "id": "u1AIt9forjhv",
        "outputId": "162aab76-1ebb-4611-d6c6-2113ebc5f617"
      },
      "execution_count": 51,
      "outputs": [
        {
          "output_type": "execute_result",
          "data": {
            "text/plain": [
              "23.888440980620498"
            ]
          },
          "metadata": {},
          "execution_count": 51
        }
      ]
    },
    {
      "cell_type": "code",
      "source": [
        "w = 80\n",
        "h = 1.83\n",
        "\n",
        "bmi = w/h**2\n",
        "\n",
        "bmi\n",
        "\n",
        "if bmi < 18:\n",
        "    print(\"體重太輕\")\n",
        "elif bmi >= 24:\n",
        "    print(\"體重過重\")\n",
        "else:\n",
        "    print(\"體重正常\")"
      ],
      "metadata": {
        "colab": {
          "base_uri": "https://localhost:8080/"
        },
        "id": "ffVxNZJkseAF",
        "outputId": "d8e8d2f0-43ed-4e49-bf5a-ce7bf2288353"
      },
      "execution_count": 53,
      "outputs": [
        {
          "output_type": "stream",
          "name": "stdout",
          "text": [
            "體重正常\n"
          ]
        }
      ]
    },
    {
      "cell_type": "markdown",
      "source": [
        "### Excenption Handling\n",
        "\n",
        "https://www.vcdemy.com/python/syntax/exceptions/"
      ],
      "metadata": {
        "id": "aYGVoClstkxs"
      }
    },
    {
      "cell_type": "markdown",
      "source": [
        "```python\n",
        "try:\n",
        "    程式區塊\n",
        "except Exception as e:\n",
        "    例外處理程式區塊\n",
        "```"
      ],
      "metadata": {
        "id": "F8katmThuKgr"
      }
    },
    {
      "cell_type": "markdown",
      "source": [
        "### 應用練習"
      ],
      "metadata": {
        "id": "cuke5LhjuDnD"
      }
    },
    {
      "cell_type": "code",
      "source": [
        "def lookup02(word):\n",
        "    data = requests.get(f\"https://www.moedict.tw/uni/{word}\").json()\n",
        "    return data['heteronyms'][0]['definitions'][0]['def']"
      ],
      "metadata": {
        "id": "8JueO317tqC7"
      },
      "execution_count": 54,
      "outputs": []
    },
    {
      "cell_type": "code",
      "source": [
        "lookup02('在天空飛的鳥')"
      ],
      "metadata": {
        "colab": {
          "base_uri": "https://localhost:8080/",
          "height": 228
        },
        "id": "HxoCADlzuZgb",
        "outputId": "ee0db957-c331-4c15-f331-7f2dce182d72"
      },
      "execution_count": 55,
      "outputs": [
        {
          "output_type": "error",
          "ename": "KeyError",
          "evalue": "'heteronyms'",
          "traceback": [
            "\u001b[0;31m---------------------------------------------------------------------------\u001b[0m",
            "\u001b[0;31mKeyError\u001b[0m                                  Traceback (most recent call last)",
            "\u001b[0;32m<ipython-input-55-804d67fc0f56>\u001b[0m in \u001b[0;36m<cell line: 0>\u001b[0;34m()\u001b[0m\n\u001b[0;32m----> 1\u001b[0;31m \u001b[0mlookup02\u001b[0m\u001b[0;34m(\u001b[0m\u001b[0;34m'在天空飛的鳥'\u001b[0m\u001b[0;34m)\u001b[0m\u001b[0;34m\u001b[0m\u001b[0;34m\u001b[0m\u001b[0m\n\u001b[0m",
            "\u001b[0;32m<ipython-input-54-0673adf62fbf>\u001b[0m in \u001b[0;36mlookup02\u001b[0;34m(word)\u001b[0m\n\u001b[1;32m      1\u001b[0m \u001b[0;32mdef\u001b[0m \u001b[0mlookup02\u001b[0m\u001b[0;34m(\u001b[0m\u001b[0mword\u001b[0m\u001b[0;34m)\u001b[0m\u001b[0;34m:\u001b[0m\u001b[0;34m\u001b[0m\u001b[0;34m\u001b[0m\u001b[0m\n\u001b[1;32m      2\u001b[0m     \u001b[0mdata\u001b[0m \u001b[0;34m=\u001b[0m \u001b[0mrequests\u001b[0m\u001b[0;34m.\u001b[0m\u001b[0mget\u001b[0m\u001b[0;34m(\u001b[0m\u001b[0;34mf\"https://www.moedict.tw/uni/{word}\"\u001b[0m\u001b[0;34m)\u001b[0m\u001b[0;34m.\u001b[0m\u001b[0mjson\u001b[0m\u001b[0;34m(\u001b[0m\u001b[0;34m)\u001b[0m\u001b[0;34m\u001b[0m\u001b[0;34m\u001b[0m\u001b[0m\n\u001b[0;32m----> 3\u001b[0;31m     \u001b[0;32mreturn\u001b[0m \u001b[0mdata\u001b[0m\u001b[0;34m[\u001b[0m\u001b[0;34m'heteronyms'\u001b[0m\u001b[0;34m]\u001b[0m\u001b[0;34m[\u001b[0m\u001b[0;36m0\u001b[0m\u001b[0;34m]\u001b[0m\u001b[0;34m[\u001b[0m\u001b[0;34m'definitions'\u001b[0m\u001b[0;34m]\u001b[0m\u001b[0;34m[\u001b[0m\u001b[0;36m0\u001b[0m\u001b[0;34m]\u001b[0m\u001b[0;34m[\u001b[0m\u001b[0;34m'def'\u001b[0m\u001b[0;34m]\u001b[0m\u001b[0;34m\u001b[0m\u001b[0;34m\u001b[0m\u001b[0m\n\u001b[0m",
            "\u001b[0;31mKeyError\u001b[0m: 'heteronyms'"
          ]
        }
      ]
    },
    {
      "cell_type": "code",
      "source": [
        "def lookup02(word):\n",
        "  try:\n",
        "    data = requests.get(f\"https://www.moedict.tw/uni/{word}\").json()\n",
        "    return data['heteronyms'][0]['definitions'][0]['def']\n",
        "  except Exception as e:\n",
        "    print(f\"發生錯誤, 錯誤原因是{e}\")\n",
        "    return e"
      ],
      "metadata": {
        "id": "PY9apKOmuoDs"
      },
      "execution_count": 59,
      "outputs": []
    },
    {
      "cell_type": "code",
      "source": [
        "lookup02('在天空飛的鳥')"
      ],
      "metadata": {
        "colab": {
          "base_uri": "https://localhost:8080/"
        },
        "id": "Bd6Qg6e_u6iS",
        "outputId": "cf617b95-ad47-4548-ea9e-aac5a5d4ba73"
      },
      "execution_count": 60,
      "outputs": [
        {
          "output_type": "stream",
          "name": "stdout",
          "text": [
            "發生錯誤, 錯誤原因是'heteronyms'\n"
          ]
        },
        {
          "output_type": "execute_result",
          "data": {
            "text/plain": [
              "KeyError('heteronyms')"
            ]
          },
          "metadata": {},
          "execution_count": 60
        }
      ]
    },
    {
      "cell_type": "markdown",
      "source": [
        "### Loops(迴圈)\n",
        "\n",
        "* for loops\n",
        "* while loops"
      ],
      "metadata": {
        "id": "gLyd47Dgvcmr"
      }
    },
    {
      "cell_type": "code",
      "source": [
        "x"
      ],
      "metadata": {
        "colab": {
          "base_uri": "https://localhost:8080/"
        },
        "id": "3sMao2ETv16m",
        "outputId": "8d9c8809-a28e-4776-989e-ac9f62e25186"
      },
      "execution_count": 61,
      "outputs": [
        {
          "output_type": "execute_result",
          "data": {
            "text/plain": [
              "[1, 2, 300, 4, 5]"
            ]
          },
          "metadata": {},
          "execution_count": 61
        }
      ]
    },
    {
      "cell_type": "code",
      "source": [
        "for i in range(5):\n",
        "  print(i)"
      ],
      "metadata": {
        "colab": {
          "base_uri": "https://localhost:8080/"
        },
        "id": "tmdNjoivvwWp",
        "outputId": "456fed23-e01f-43df-9d5f-1087cc03b4f3"
      },
      "execution_count": 63,
      "outputs": [
        {
          "output_type": "stream",
          "name": "stdout",
          "text": [
            "0\n",
            "1\n",
            "2\n",
            "3\n",
            "4\n"
          ]
        }
      ]
    },
    {
      "cell_type": "code",
      "source": [
        "for i in  x:\n",
        "  print(i)"
      ],
      "metadata": {
        "colab": {
          "base_uri": "https://localhost:8080/"
        },
        "id": "fchSP2T5wAvC",
        "outputId": "7d569515-97d1-4504-ef6a-0045f7e6fd2b"
      },
      "execution_count": 64,
      "outputs": [
        {
          "output_type": "stream",
          "name": "stdout",
          "text": [
            "1\n",
            "2\n",
            "300\n",
            "4\n",
            "5\n"
          ]
        }
      ]
    },
    {
      "cell_type": "code",
      "source": [
        "for i in y:\n",
        "  print(i)"
      ],
      "metadata": {
        "colab": {
          "base_uri": "https://localhost:8080/"
        },
        "id": "oky3-KnqwLpp",
        "outputId": "e9f031ce-37ba-49c2-882e-6f6900933ff7"
      },
      "execution_count": 65,
      "outputs": [
        {
          "output_type": "stream",
          "name": "stdout",
          "text": [
            "1\n",
            "2\n",
            "3\n",
            "4\n",
            "5\n"
          ]
        }
      ]
    },
    {
      "cell_type": "code",
      "source": [
        "for i in d:\n",
        "  print(i)"
      ],
      "metadata": {
        "colab": {
          "base_uri": "https://localhost:8080/"
        },
        "id": "PUeMqoAtwP5w",
        "outputId": "d4d63df2-cfaf-4fb9-a468-01e14710ec41"
      },
      "execution_count": 67,
      "outputs": [
        {
          "output_type": "stream",
          "name": "stdout",
          "text": [
            "cat\n",
            "dog\n"
          ]
        }
      ]
    },
    {
      "cell_type": "code",
      "source": [
        "for i in d:\n",
        "  print(i, \"=>\", d[i])"
      ],
      "metadata": {
        "colab": {
          "base_uri": "https://localhost:8080/"
        },
        "id": "0NVwm9Pewcno",
        "outputId": "ccefc2d9-879d-496d-9d16-9860affe0bc4"
      },
      "execution_count": 68,
      "outputs": [
        {
          "output_type": "stream",
          "name": "stdout",
          "text": [
            "cat => 貓咪\n",
            "dog => 狗狗\n"
          ]
        }
      ]
    },
    {
      "cell_type": "markdown",
      "source": [
        "逗號會形成空白"
      ],
      "metadata": {
        "id": "fhVH8UlNwszo"
      }
    }
  ]
}